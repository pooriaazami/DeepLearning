{
 "cells": [
  {
   "cell_type": "code",
   "execution_count": 1,
   "id": "02a3a162",
   "metadata": {},
   "outputs": [],
   "source": [
    "import numpy as np\n",
    "\n",
    "from IPython.display import clear_output\n",
    "import time"
   ]
  },
  {
   "cell_type": "code",
   "execution_count": 2,
   "id": "4db5204a",
   "metadata": {},
   "outputs": [],
   "source": [
    "class Environment:\n",
    "    def __init__(self, jumps, board_size):\n",
    "        self.__board_size = board_size\n",
    "        self.__jumps = jumps\n",
    "        self.__x = board_size // 2\n",
    "        self.__y = board_size // 2\n",
    "        \n",
    "    def reset(self):\n",
    "        self.__x = 2\n",
    "        self.__y = 2\n",
    "        \n",
    "    def __apply_move(self, x, y, action):\n",
    "        new_x, new_y = x, y\n",
    "        \n",
    "        if action == 'L':\n",
    "            new_y = y - 1\n",
    "        elif action == 'R':\n",
    "            new_y = y + 1\n",
    "        elif action == 'D':\n",
    "            new_x = x + 1\n",
    "        elif action == 'U':\n",
    "            new_x = x - 1\n",
    "            \n",
    "        return new_x, new_y\n",
    "    \n",
    "    def __check_jump(self, current_x, current_y):\n",
    "        for jump in self.__jumps:\n",
    "            if jump[0][0] == current_x and jump[0][1] == current_y:\n",
    "                return jump\n",
    "            \n",
    "        return None\n",
    "    \n",
    "    def __get_new_pos(self, new_x, new_y):\n",
    "        reward = 0\n",
    "        \n",
    "        if 0 > new_x or new_x > self.__board_size - 1:\n",
    "            new_x = max(min(new_x, self.__board_size - 1), 0)\n",
    "            reward = -1\n",
    "        if 0 > new_y or new_y > self.__board_size - 1:\n",
    "            new_y = max(min(new_y, self.__board_size - 1), 0)\n",
    "            reward = -1\n",
    "        \n",
    "        return new_x, new_y, reward\n",
    "\n",
    "    \n",
    "    def predict_reward(self, current_x, current_y, action):\n",
    "        jump = self.__check_jump(current_x, current_y)\n",
    "        if jump is not None:\n",
    "            new_x, new_y, reward = jump[1][0], jump[1][1], jump[2]\n",
    "        else:\n",
    "            new_x, new_y = self.__apply_move(current_x, current_y, action)\n",
    "            new_x, new_y, reward = self.__get_new_pos(new_x, new_y)\n",
    "        \n",
    "        return new_x, new_y, reward\n",
    "    \n",
    "    def move(self, action):\n",
    "        jump = self.__check_jump(self.__x, self.__y)\n",
    "        if jump is not None:\n",
    "            self.__x, self.__y, reward = jump[1][0], jump[1][1], jump[2]\n",
    "        else:\n",
    "            new_x, new_y = self.__apply_move(self.__x, self.__y, action)\n",
    "            self.__x, self.__y, reward = self.__get_new_pos(new_x, new_y)\n",
    "        \n",
    "        return reward\n",
    "        \n",
    "    def show(self):\n",
    "        for i in range(self.__board_size):\n",
    "            for j in range(self.__board_size):\n",
    "                if i == self.__x and j == self.__y:\n",
    "                    print('A', end=' ')\n",
    "                else:\n",
    "                    print('_', end=' ')\n",
    "            print('\\n')\n",
    "    \n",
    "    def percept(self):\n",
    "        return self.__x, self.__y\n",
    "    \n",
    "            \n",
    "    @property\n",
    "    def actions(self):\n",
    "        return ['U', 'D', 'L', 'R']\n",
    "    \n",
    "    @property\n",
    "    def num_actions(self):\n",
    "        return 4\n",
    "    \n",
    "    @property\n",
    "    def board_size(self):\n",
    "        return self.__board_size"
   ]
  },
  {
   "cell_type": "code",
   "execution_count": 21,
   "id": "ec774c80",
   "metadata": {},
   "outputs": [],
   "source": [
    "def choose_an_action(env, state_probs):\n",
    "    probs = [state_probs[action] for action in env.actions]\n",
    "    action = np.random.choice(env.actions, p=probs)\n",
    "    \n",
    "    return action"
   ]
  },
  {
   "cell_type": "code",
   "execution_count": 22,
   "id": "5abc7a4f",
   "metadata": {},
   "outputs": [],
   "source": [
    "def calculate_bellman_equation(env, discount_factor, values, policy, i, j):\n",
    "    value = 0\n",
    "    \n",
    "    for action in env.actions:\n",
    "        new_x, new_y, reward = env.predict_reward(i, j, action)\n",
    "        value += policy[i][j][action] * (reward + discount_factor * values[new_x, new_y])\n",
    "        \n",
    "    return value"
   ]
  },
  {
   "cell_type": "code",
   "execution_count": 23,
   "id": "90564a6a",
   "metadata": {},
   "outputs": [],
   "source": [
    "def update_values(env, discount_factor, current_values, policy):\n",
    "    new_values = np.zeros((env.board_size, env.board_size))\n",
    "    \n",
    "    for i in range(env.board_size):\n",
    "        for j in range(env.board_size):\n",
    "            new_values[i, j] = calculate_bellman_equation(env, discount_factor, current_values, policy, i, j)\n",
    "            \n",
    "    return new_values"
   ]
  },
  {
   "cell_type": "code",
   "execution_count": 24,
   "id": "f3cfaf47",
   "metadata": {},
   "outputs": [],
   "source": [
    "def calculate_value_function(env, policy, discount_factor):\n",
    "    values = np.zeros((env.board_size, env.board_size))\n",
    "    \n",
    "    for i in range(10):\n",
    "        values = update_values(env, discount_factor, values, policy)\n",
    "\n",
    "    return values"
   ]
  },
  {
   "cell_type": "code",
   "execution_count": 25,
   "id": "74b31ca8",
   "metadata": {},
   "outputs": [],
   "source": [
    "def flatten_values(env, policy, values):\n",
    "    policy = [[{action: 0 for action in env.actions} for _ in range(env.board_size)] for _ in range(env.board_size)] \n",
    "    \n",
    "    for i in range(env.board_size):\n",
    "        for j in range(env.board_size):\n",
    "            for action in env.actions:\n",
    "                new_x, new_y, _ = env.predict_reward(i, j, action)\n",
    "                \n",
    "                policy[i][j][action] = values[new_x, new_y]\n",
    "                \n",
    "    return policy"
   ]
  },
  {
   "cell_type": "code",
   "execution_count": 26,
   "id": "d8473614",
   "metadata": {},
   "outputs": [],
   "source": [
    "def multi_max(env, state_values):\n",
    "    maximum_value = float('-inf')\n",
    "    maximums = []\n",
    "    \n",
    "    for action in env.actions:\n",
    "        if state_values[action] > maximum_value:\n",
    "            maximum_value = state_values[action]\n",
    "            maximums = [action]\n",
    "        elif state_values[action] == maximum_value:\n",
    "            maximums.append(action)\n",
    "            \n",
    "    return maximums"
   ]
  },
  {
   "cell_type": "code",
   "execution_count": 27,
   "id": "d305bc0e",
   "metadata": {},
   "outputs": [],
   "source": [
    "def update_policy(env, policy):\n",
    "    new_policy = [[{action: 0 for action in env.actions} for _ in range(env.board_size)] for _ in range(env.board_size)] \n",
    "    \n",
    "    for i in range(env.board_size):\n",
    "        for j in range(env.board_size):\n",
    "            optimal_actions = multi_max(env, policy[i][j])\n",
    "            prob = 1 / len(optimal_actions)\n",
    "            new_policy[i][j] = {action: prob if action in optimal_actions else 0 for action in env.actions}\n",
    "    \n",
    "    return new_policy"
   ]
  },
  {
   "cell_type": "code",
   "execution_count": 28,
   "id": "70d95d7d",
   "metadata": {},
   "outputs": [],
   "source": [
    "def print_policy(env, policy):\n",
    "    \n",
    "    for i in range(env.board_size):\n",
    "        row = []\n",
    "        for j in range(env.board_size):\n",
    "            actions = ' '.join(multi_max(env, policy[i][j])).center(10)\n",
    "            print(actions, end='|')\n",
    "            \n",
    "        print()"
   ]
  },
  {
   "cell_type": "code",
   "execution_count": 29,
   "id": "3ff05c81",
   "metadata": {},
   "outputs": [],
   "source": [
    "def policy_iteration(env, discount_factor, iterations, print_steps=False):\n",
    "    policy = [[{action: 1/4 for action in env.actions} for _ in range(env.board_size)] for _ in range(env.board_size)]\n",
    "    \n",
    "    for i in range(iterations):\n",
    "        values = calculate_value_function(env, policy, discount_factor)\n",
    "        state_values = flatten_values(env, policy, values)\n",
    "        policy = update_policy(env, state_values)\n",
    "        \n",
    "        if print_steps:\n",
    "            print_policy(env, policy)\n",
    "            \n",
    "            if i != iterations - 1:\n",
    "                print('-' * 100)\n",
    "    \n",
    "    return policy, values"
   ]
  },
  {
   "cell_type": "code",
   "execution_count": 30,
   "id": "5a63e2db",
   "metadata": {},
   "outputs": [],
   "source": [
    "def default_env():\n",
    "    return Environment(\n",
    "        [\n",
    "            ((0, 1), (4, 1), 10),\n",
    "            ((0, 3), (2, 3), 5)\n",
    "        ],\n",
    "        5\n",
    "     )"
   ]
  },
  {
   "cell_type": "code",
   "execution_count": 31,
   "id": "36ce8252",
   "metadata": {},
   "outputs": [],
   "source": [
    "def run_episode(env, num_steps, policy, plot=False):\n",
    "    env.reset()\n",
    "    \n",
    "    if plot:\n",
    "        clear_output(wait=True)\n",
    "        env.show()\n",
    "        time.sleep(.25)\n",
    "        print()\n",
    "        \n",
    "    sum_reward = 0\n",
    "    \n",
    "    for _ in range(num_steps):\n",
    "        x, y = env.percept()\n",
    "        action = choose_an_action(env, policy[x][y])\n",
    "        reward = env.move(action)\n",
    "        \n",
    "        if plot:\n",
    "            clear_output(wait=True)\n",
    "            env.show()\n",
    "            time.sleep(.25)\n",
    "            print()\n",
    "            \n",
    "        sum_reward += reward\n",
    "        \n",
    "    return sum_reward"
   ]
  },
  {
   "cell_type": "code",
   "execution_count": 56,
   "id": "842bb994",
   "metadata": {},
   "outputs": [],
   "source": [
    "discount_factor = .9"
   ]
  },
  {
   "cell_type": "code",
   "execution_count": 57,
   "id": "47628b3a",
   "metadata": {},
   "outputs": [],
   "source": [
    "env = default_env()\n",
    "\n",
    "policy = [[{action: 1/4 for action in env.actions} for _ in range(env.board_size)] for _ in range(env.board_size)]"
   ]
  },
  {
   "cell_type": "code",
   "execution_count": 59,
   "id": "268c4cd2",
   "metadata": {},
   "outputs": [
    {
     "name": "stdout",
     "output_type": "stream",
     "text": [
      "_ _ _ _ _ \n",
      "\n",
      "_ A _ _ _ \n",
      "\n",
      "_ _ _ _ _ \n",
      "\n",
      "_ _ _ _ _ \n",
      "\n",
      "_ _ _ _ _ \n",
      "\n",
      "\n"
     ]
    },
    {
     "data": {
      "text/plain": [
       "4"
      ]
     },
     "execution_count": 59,
     "metadata": {},
     "output_type": "execute_result"
    }
   ],
   "source": [
    "run_episode(env, 20, policy, True)"
   ]
  },
  {
   "cell_type": "code",
   "execution_count": 60,
   "id": "223c5136",
   "metadata": {},
   "outputs": [
    {
     "name": "stdout",
     "output_type": "stream",
     "text": [
      " U D L R  | U D L R  | U D L R  | U D L R  | U D L R  |\n",
      " U D L R  | U D L R  | U D L R  | U D L R  | U D L R  |\n",
      " U D L R  | U D L R  | U D L R  | U D L R  | U D L R  |\n",
      " U D L R  | U D L R  | U D L R  | U D L R  | U D L R  |\n",
      " U D L R  | U D L R  | U D L R  | U D L R  | U D L R  |\n",
      "\n",
      "    R     | U D L R  |    L     | U D L R  |    L     |\n",
      "    U     |    U     |    U     |    U     |    L     |\n",
      "    U     |    U     |    U     |    U     |    U     |\n",
      "    U     |    U     |    U     |    U     |    U     |\n",
      "    U     |    U     |    U     |    U     |    U     |\n",
      "----------------------------------------------------------------------------------------------------\n",
      "    R     | U D L R  |    L     | U D L R  |    L     |\n",
      "   U R    |    U     |   U L    |    U     |   U L    |\n",
      "   U R    |    U     |   U L    |    L     |   U L    |\n",
      "   U R    |    U     |   U L    |    L     |   U L    |\n",
      "   U R    |    U     |   U L    |    U     |   U L    |\n",
      "----------------------------------------------------------------------------------------------------\n",
      "    R     | U D L R  |    L     | U D L R  |    L     |\n",
      "   U R    |    U     |   U L    |    L     |   U L    |\n",
      "   U R    |    U     |   U L    |    L     |    L     |\n",
      "   U R    |    U     |   U L    |   U L    |    U     |\n",
      "   U R    |    U     |   U L    |   U L    |    U     |\n",
      "----------------------------------------------------------------------------------------------------\n",
      "    R     | U D L R  |    L     | U D L R  |    L     |\n",
      "   U R    |    U     |   U L    |    L     |    L     |\n",
      "   U R    |    U     |   U L    |   U L    |    L     |\n",
      "   U R    |    U     |   U L    |   U L    |   U L    |\n",
      "   U R    |    U     |   U L    |   U L    |   U L    |\n",
      "----------------------------------------------------------------------------------------------------\n",
      "    R     | U D L R  |    L     | U D L R  |    L     |\n",
      "   U R    |    U     |   U L    |    L     |    L     |\n",
      "   U R    |    U     |   U L    |   U L    |   U L    |\n",
      "   U R    |    U     |   U L    |   U L    |   U L    |\n",
      "   U R    |    U     |   U L    |   U L    |   U L    |\n",
      "----------------------------------------------------------------------------------------------------\n",
      "    R     | U D L R  |    L     | U D L R  |    L     |\n",
      "   U R    |    U     |   U L    |    L     |    L     |\n",
      "   U R    |    U     |   U L    |   U L    |   U L    |\n",
      "   U R    |    U     |   U L    |   U L    |   U L    |\n",
      "   U R    |    U     |   U L    |   U L    |   U L    |\n",
      "----------------------------------------------------------------------------------------------------\n",
      "    R     | U D L R  |    L     | U D L R  |    L     |\n",
      "   U R    |    U     |   U L    |    L     |    L     |\n",
      "   U R    |    U     |   U L    |   U L    |   U L    |\n",
      "   U R    |    U     |   U L    |   U L    |   U L    |\n",
      "   U R    |    U     |   U L    |   U L    |   U L    |\n",
      "----------------------------------------------------------------------------------------------------\n",
      "    R     | U D L R  |    L     | U D L R  |    L     |\n",
      "   U R    |    U     |   U L    |    L     |    L     |\n",
      "   U R    |    U     |   U L    |   U L    |   U L    |\n",
      "   U R    |    U     |   U L    |   U L    |   U L    |\n",
      "   U R    |    U     |   U L    |   U L    |   U L    |\n",
      "----------------------------------------------------------------------------------------------------\n",
      "    R     | U D L R  |    L     | U D L R  |    L     |\n",
      "   U R    |    U     |   U L    |    L     |    L     |\n",
      "   U R    |    U     |   U L    |   U L    |   U L    |\n",
      "   U R    |    U     |   U L    |   U L    |   U L    |\n",
      "   U R    |    U     |   U L    |   U L    |   U L    |\n",
      "----------------------------------------------------------------------------------------------------\n",
      "    R     | U D L R  |    L     | U D L R  |    L     |\n",
      "   U R    |    U     |   U L    |    L     |    L     |\n",
      "   U R    |    U     |   U L    |   U L    |   U L    |\n",
      "   U R    |    U     |   U L    |   U L    |   U L    |\n",
      "   U R    |    U     |   U L    |   U L    |   U L    |\n",
      "\n",
      "    R     | U D L R  |    L     | U D L R  |    L     |\n",
      "   U R    |    U     |   U L    |    L     |    L     |\n",
      "   U R    |    U     |   U L    |   U L    |   U L    |\n",
      "   U R    |    U     |   U L    |   U L    |   U L    |\n",
      "   U R    |    U     |   U L    |   U L    |   U L    |\n"
     ]
    },
    {
     "data": {
      "text/plain": [
       "array([[14.31441   , 15.9049    , 14.31441   , 10.9049    ,  9.81441   ],\n",
       "       [12.882969  , 14.31441   , 12.882969  , 11.5946721 , 10.43520489],\n",
       "       [11.5946721 , 12.882969  , 11.5946721 , 10.43520489,  5.9049    ],\n",
       "       [10.43520489, 11.5946721 , 10.43520489,  5.9049    ,  5.31441   ],\n",
       "       [ 5.9049    , 10.43520489,  5.9049    ,  5.31441   ,  4.782969  ]])"
      ]
     },
     "execution_count": 60,
     "metadata": {},
     "output_type": "execute_result"
    }
   ],
   "source": [
    "print_policy(env, policy)\n",
    "print()\n",
    "policy, values = policy_iteration(env, discount_factor, 10, True)\n",
    "print()\n",
    "print_policy(env, policy)\n",
    "values"
   ]
  },
  {
   "cell_type": "code",
   "execution_count": 62,
   "id": "a500b0b1",
   "metadata": {},
   "outputs": [
    {
     "name": "stdout",
     "output_type": "stream",
     "text": [
      "_ _ _ _ _ \n",
      "\n",
      "_ _ _ _ _ \n",
      "\n",
      "_ _ _ _ _ \n",
      "\n",
      "_ A _ _ _ \n",
      "\n",
      "_ _ _ _ _ \n",
      "\n",
      "\n"
     ]
    },
    {
     "data": {
      "text/plain": [
       "40"
      ]
     },
     "execution_count": 62,
     "metadata": {},
     "output_type": "execute_result"
    }
   ],
   "source": [
    "run_episode(env, 20, policy, True)"
   ]
  },
  {
   "cell_type": "code",
   "execution_count": 63,
   "id": "8d7973b2",
   "metadata": {},
   "outputs": [
    {
     "name": "stdout",
     "output_type": "stream",
     "text": [
      " U D L R  | U D L R  | U D L R  | U D L R  | U D L R  |\n",
      " U D L R  | U D L R  | U D L R  | U D L R  | U D L R  |\n",
      " U D L R  | U D L R  | U D L R  | U D L R  | U D L R  |\n",
      " U D L R  | U D L R  | U D L R  | U D L R  | U D L R  |\n",
      " U D L R  | U D L R  | U D L R  | U D L R  | U D L R  |\n"
     ]
    }
   ],
   "source": [
    "env = Environment(\n",
    "    [\n",
    "        ((0, 0), (0, 4), 10),\n",
    "        ((4, 4), (4, 0), 10),\n",
    "    ],\n",
    "    5\n",
    " )\n",
    "\n",
    "policy = [[{action: 1/4 for action in env.actions} for _ in range(env.board_size)] for _ in range(env.board_size)]\n",
    "print_policy(env, policy)"
   ]
  },
  {
   "cell_type": "code",
   "execution_count": 64,
   "id": "af624def",
   "metadata": {},
   "outputs": [
    {
     "name": "stdout",
     "output_type": "stream",
     "text": [
      "_ _ _ _ _ \n",
      "\n",
      "_ _ _ _ _ \n",
      "\n",
      "_ _ _ _ _ \n",
      "\n",
      "_ _ A _ _ \n",
      "\n",
      "_ _ _ _ _ \n",
      "\n",
      "\n"
     ]
    },
    {
     "data": {
      "text/plain": [
       "-3"
      ]
     },
     "execution_count": 64,
     "metadata": {},
     "output_type": "execute_result"
    }
   ],
   "source": [
    "run_episode(env, 20, policy, True)"
   ]
  },
  {
   "cell_type": "code",
   "execution_count": 65,
   "id": "47d94b33",
   "metadata": {},
   "outputs": [
    {
     "name": "stdout",
     "output_type": "stream",
     "text": [
      " U D L R  |    L     |    L     |    L     |   D L    |\n",
      "    U     |   U L    |    L     |    L     |    D     |\n",
      "    U     |    U     |    U     |    D     |    D     |\n",
      "    U     |   U R    |    R     |   D R    |    D     |\n",
      "   U R    |    R     |    R     |    R     | U D L R  |\n",
      "----------------------------------------------------------------------------------------------------\n",
      " U D L R  |    L     |    L     |    L     |   D L    |\n",
      "    U     |   U L    |   U L    | U D L R  |    D     |\n",
      "    U     |   U L    | U D L R  |   D R    |    D     |\n",
      "    U     | U D L R  |   D R    |   D R    |    D     |\n",
      "   U R    |    R     |    R     |    R     | U D L R  |\n",
      "----------------------------------------------------------------------------------------------------\n",
      " U D L R  |    L     |    L     |    L     |   D L    |\n",
      "    U     |   U L    |   U L    | U D L R  |    D     |\n",
      "    U     |   U L    | U D L R  |   D R    |    D     |\n",
      "    U     | U D L R  |   D R    |   D R    |    D     |\n",
      "   U R    |    R     |    R     |    R     | U D L R  |\n",
      "----------------------------------------------------------------------------------------------------\n",
      " U D L R  |    L     |    L     |    L     |   D L    |\n",
      "    U     |   U L    |   U L    | U D L R  |    D     |\n",
      "    U     |   U L    | U D L R  |   D R    |    D     |\n",
      "    U     | U D L R  |   D R    |   D R    |    D     |\n",
      "   U R    |    R     |    R     |    R     | U D L R  |\n",
      "----------------------------------------------------------------------------------------------------\n",
      " U D L R  |    L     |    L     |    L     |   D L    |\n",
      "    U     |   U L    |   U L    | U D L R  |    D     |\n",
      "    U     |   U L    | U D L R  |   D R    |    D     |\n",
      "    U     | U D L R  |   D R    |   D R    |    D     |\n",
      "   U R    |    R     |    R     |    R     | U D L R  |\n",
      "----------------------------------------------------------------------------------------------------\n",
      " U D L R  |    L     |    L     |    L     |   D L    |\n",
      "    U     |   U L    |   U L    | U D L R  |    D     |\n",
      "    U     |   U L    | U D L R  |   D R    |    D     |\n",
      "    U     | U D L R  |   D R    |   D R    |    D     |\n",
      "   U R    |    R     |    R     |    R     | U D L R  |\n",
      "----------------------------------------------------------------------------------------------------\n",
      " U D L R  |    L     |    L     |    L     |   D L    |\n",
      "    U     |   U L    |   U L    | U D L R  |    D     |\n",
      "    U     |   U L    | U D L R  |   D R    |    D     |\n",
      "    U     | U D L R  |   D R    |   D R    |    D     |\n",
      "   U R    |    R     |    R     |    R     | U D L R  |\n",
      "----------------------------------------------------------------------------------------------------\n",
      " U D L R  |    L     |    L     |    L     |   D L    |\n",
      "    U     |   U L    |   U L    | U D L R  |    D     |\n",
      "    U     |   U L    | U D L R  |   D R    |    D     |\n",
      "    U     | U D L R  |   D R    |   D R    |    D     |\n",
      "   U R    |    R     |    R     |    R     | U D L R  |\n",
      "----------------------------------------------------------------------------------------------------\n",
      " U D L R  |    L     |    L     |    L     |   D L    |\n",
      "    U     |   U L    |   U L    | U D L R  |    D     |\n",
      "    U     |   U L    | U D L R  |   D R    |    D     |\n",
      "    U     | U D L R  |   D R    |   D R    |    D     |\n",
      "   U R    |    R     |    R     |    R     | U D L R  |\n",
      "----------------------------------------------------------------------------------------------------\n",
      " U D L R  |    L     |    L     |    L     |   D L    |\n",
      "    U     |   U L    |   U L    | U D L R  |    D     |\n",
      "    U     |   U L    | U D L R  |   D R    |    D     |\n",
      "    U     | U D L R  |   D R    |   D R    |    D     |\n",
      "   U R    |    R     |    R     |    R     | U D L R  |\n",
      "\n",
      " U D L R  |    L     |    L     |    L     |   D L    |\n",
      "    U     |   U L    |   U L    | U D L R  |    D     |\n",
      "    U     |   U L    | U D L R  |   D R    |    D     |\n",
      "    U     | U D L R  |   D R    |   D R    |    D     |\n",
      "   U R    |    R     |    R     |    R     | U D L R  |\n"
     ]
    },
    {
     "data": {
      "text/plain": [
       "array([[15.9049    , 14.31441   , 12.882969  , 11.5946721 , 10.43520489],\n",
       "       [14.31441   , 12.882969  , 11.5946721 , 10.43520489, 11.5946721 ],\n",
       "       [12.882969  , 11.5946721 , 10.43520489, 11.5946721 , 12.882969  ],\n",
       "       [11.5946721 , 10.43520489, 11.5946721 , 12.882969  , 14.31441   ],\n",
       "       [10.43520489, 11.5946721 , 12.882969  , 14.31441   , 15.9049    ]])"
      ]
     },
     "execution_count": 65,
     "metadata": {},
     "output_type": "execute_result"
    }
   ],
   "source": [
    "policy, values = policy_iteration(env, discount_factor, 10, True)\n",
    "print()\n",
    "print_policy(env, policy)\n",
    "values"
   ]
  },
  {
   "cell_type": "code",
   "execution_count": 22,
   "id": "14bbf180",
   "metadata": {},
   "outputs": [],
   "source": [
    "env = Environment(\n",
    "    [\n",
    "        ((0, 0), (0, 4), -10),\n",
    "        ((4, 4), (4, 0), -10),\n",
    "        \n",
    "        ((0, 2), (2, 3), 5),\n",
    "        ((2, 3), (4, 2), 5),\n",
    "        ((4, 2), (2, 1), 5),\n",
    "        ((2, 1), (0, 2), 5),\n",
    "    ],\n",
    "    5\n",
    " )\n",
    "\n",
    "policy = [[{action: 1/4 for action in env.actions} for _ in range(env.board_size)] for _ in range(env.board_size)]"
   ]
  },
  {
   "cell_type": "code",
   "execution_count": 23,
   "id": "67f007cc",
   "metadata": {},
   "outputs": [
    {
     "name": "stdout",
     "output_type": "stream",
     "text": [
      "_ _ _ _ _ \n",
      "\n",
      "_ _ _ _ _ \n",
      "\n",
      "_ _ _ _ _ \n",
      "\n",
      "_ _ _ _ _ \n",
      "\n",
      "_ _ A _ _ \n",
      "\n",
      "\n"
     ]
    },
    {
     "data": {
      "text/plain": [
       "95"
      ]
     },
     "execution_count": 23,
     "metadata": {},
     "output_type": "execute_result"
    }
   ],
   "source": [
    "run_episode(env, 20, policy, True)"
   ]
  },
  {
   "cell_type": "code",
   "execution_count": 24,
   "id": "54faa2b0",
   "metadata": {},
   "outputs": [
    {
     "name": "stdout",
     "output_type": "stream",
     "text": [
      " U D L R  | U D L R  | U D L R  | U D L R  | U D L R  |\n",
      " U D L R  | U D L R  | U D L R  | U D L R  | U D L R  |\n",
      " U D L R  | U D L R  | U D L R  | U D L R  | U D L R  |\n",
      " U D L R  | U D L R  | U D L R  | U D L R  | U D L R  |\n",
      " U D L R  | U D L R  | U D L R  | U D L R  | U D L R  |\n",
      "\n",
      " U D L R  |    R     | U D L R  |    L     |    L     |\n",
      "    R     |    D     |    U     |    D     |    L     |\n",
      "    R     | U D L R  |   L R    | U D L R  |    L     |\n",
      "    R     |    U     |    D     |    U     |    L     |\n",
      "    R     |    R     | U D L R  |    L     | U D L R  |\n",
      "----------------------------------------------------------------------------------------------------\n",
      " U D L R  |    R     | U D L R  |    L     |    L     |\n",
      "   D R    |    D     |    U     |    D     |   D L    |\n",
      "    R     | U D L R  |   L R    | U D L R  |    L     |\n",
      "   U R    |    U     |    D     |    U     |   U L    |\n",
      "    R     |    R     | U D L R  |    L     | U D L R  |\n",
      "----------------------------------------------------------------------------------------------------\n",
      " U D L R  |    R     | U D L R  |    L     |    L     |\n",
      "   D R    |    D     |    U     |    D     |   D L    |\n",
      "    R     | U D L R  |   L R    | U D L R  |    L     |\n",
      "   U R    |    U     |    D     |    U     |   U L    |\n",
      "    R     |    R     | U D L R  |    L     | U D L R  |\n",
      "----------------------------------------------------------------------------------------------------\n",
      " U D L R  |    R     | U D L R  |    L     |    L     |\n",
      "   D R    |    D     |    U     |    D     |   D L    |\n",
      "    R     | U D L R  |   L R    | U D L R  |    L     |\n",
      "   U R    |    U     |    D     |    U     |   U L    |\n",
      "    R     |    R     | U D L R  |    L     | U D L R  |\n",
      "----------------------------------------------------------------------------------------------------\n",
      " U D L R  |    R     | U D L R  |    L     |    L     |\n",
      "   D R    |    D     |    U     |    D     |   D L    |\n",
      "    R     | U D L R  |   L R    | U D L R  |    L     |\n",
      "   U R    |    U     |    D     |    U     |   U L    |\n",
      "    R     |    R     | U D L R  |    L     | U D L R  |\n",
      "----------------------------------------------------------------------------------------------------\n",
      " U D L R  |    R     | U D L R  |    L     |    L     |\n",
      "   D R    |    D     |    U     |    D     |   D L    |\n",
      "    R     | U D L R  |   L R    | U D L R  |    L     |\n",
      "   U R    |    U     |    D     |    U     |   U L    |\n",
      "    R     |    R     | U D L R  |    L     | U D L R  |\n",
      "----------------------------------------------------------------------------------------------------\n",
      " U D L R  |    R     | U D L R  |    L     |    L     |\n",
      "   D R    |    D     |    U     |    D     |   D L    |\n",
      "    R     | U D L R  |   L R    | U D L R  |    L     |\n",
      "   U R    |    U     |    D     |    U     |   U L    |\n",
      "    R     |    R     | U D L R  |    L     | U D L R  |\n",
      "----------------------------------------------------------------------------------------------------\n",
      " U D L R  |    R     | U D L R  |    L     |    L     |\n",
      "   D R    |    D     |    U     |    D     |   D L    |\n",
      "    R     | U D L R  |   L R    | U D L R  |    L     |\n",
      "   U R    |    U     |    D     |    U     |   U L    |\n",
      "    R     |    R     | U D L R  |    L     | U D L R  |\n",
      "----------------------------------------------------------------------------------------------------\n",
      " U D L R  |    R     | U D L R  |    L     |    L     |\n",
      "   D R    |    D     |    U     |    D     |   D L    |\n",
      "    R     | U D L R  |   L R    | U D L R  |    L     |\n",
      "   U R    |    U     |    D     |    U     |   U L    |\n",
      "    R     |    R     | U D L R  |    L     | U D L R  |\n",
      "----------------------------------------------------------------------------------------------------\n",
      " U D L R  |    R     | U D L R  |    L     |    L     |\n",
      "   D R    |    D     |    U     |    D     |   D L    |\n",
      "    R     | U D L R  |   L R    | U D L R  |    L     |\n",
      "   U R    |    U     |    D     |    U     |   U L    |\n",
      "    R     |    R     | U D L R  |    L     | U D L R  |\n",
      "\n",
      " U D L R  |    R     | U D L R  |    L     |    L     |\n",
      "   D R    |    D     |    U     |    D     |   D L    |\n",
      "    R     | U D L R  |   L R    | U D L R  |    L     |\n",
      "   U R    |    U     |    D     |    U     |   U L    |\n",
      "    R     |    R     | U D L R  |    L     | U D L R  |\n"
     ]
    },
    {
     "data": {
      "text/plain": [
       "array([[ 9.01607799, 27.566078  , 32.566078  , 27.566078  , 23.066078  ],\n",
       "       [23.066078  , 27.566078  , 27.566078  , 27.566078  , 23.066078  ],\n",
       "       [27.566078  , 32.566078  , 27.566078  , 32.566078  , 27.566078  ],\n",
       "       [23.066078  , 27.566078  , 27.566078  , 27.566078  , 23.066078  ],\n",
       "       [23.066078  , 27.566078  , 32.566078  , 27.566078  ,  9.01607799]])"
      ]
     },
     "execution_count": 24,
     "metadata": {},
     "output_type": "execute_result"
    }
   ],
   "source": [
    "print_policy(env, policy)\n",
    "print()\n",
    "policy, values = policy_iteration(env, discount_factor, 10, True)\n",
    "print()\n",
    "print_policy(env, policy)\n",
    "values"
   ]
  },
  {
   "cell_type": "code",
   "execution_count": 25,
   "id": "8c39e25c",
   "metadata": {},
   "outputs": [
    {
     "name": "stdout",
     "output_type": "stream",
     "text": [
      "_ _ A _ _ \n",
      "\n",
      "_ _ _ _ _ \n",
      "\n",
      "_ _ _ _ _ \n",
      "\n",
      "_ _ _ _ _ \n",
      "\n",
      "_ _ _ _ _ \n",
      "\n",
      "\n"
     ]
    },
    {
     "data": {
      "text/plain": [
       "95"
      ]
     },
     "execution_count": 25,
     "metadata": {},
     "output_type": "execute_result"
    }
   ],
   "source": [
    "run_episode(env, 20, policy, True)"
   ]
  },
  {
   "cell_type": "code",
   "execution_count": 5,
   "id": "515608ab",
   "metadata": {},
   "outputs": [],
   "source": [
    "env = default_env()"
   ]
  },
  {
   "cell_type": "code",
   "execution_count": 6,
   "id": "8b4ae39f",
   "metadata": {},
   "outputs": [
    {
     "data": {
      "text/plain": [
       "['_Environment__apply_move',\n",
       " '_Environment__board_size',\n",
       " '_Environment__check_jump',\n",
       " '_Environment__get_new_pos',\n",
       " '_Environment__jumps',\n",
       " '_Environment__x',\n",
       " '_Environment__y',\n",
       " '__class__',\n",
       " '__delattr__',\n",
       " '__dict__',\n",
       " '__dir__',\n",
       " '__doc__',\n",
       " '__eq__',\n",
       " '__format__',\n",
       " '__ge__',\n",
       " '__getattribute__',\n",
       " '__gt__',\n",
       " '__hash__',\n",
       " '__init__',\n",
       " '__init_subclass__',\n",
       " '__le__',\n",
       " '__lt__',\n",
       " '__module__',\n",
       " '__ne__',\n",
       " '__new__',\n",
       " '__reduce__',\n",
       " '__reduce_ex__',\n",
       " '__repr__',\n",
       " '__setattr__',\n",
       " '__sizeof__',\n",
       " '__str__',\n",
       " '__subclasshook__',\n",
       " '__weakref__',\n",
       " 'actions',\n",
       " 'board_size',\n",
       " 'move',\n",
       " 'num_actions',\n",
       " 'percept',\n",
       " 'predict_reward',\n",
       " 'reset',\n",
       " 'show']"
      ]
     },
     "execution_count": 6,
     "metadata": {},
     "output_type": "execute_result"
    }
   ],
   "source": [
    "dir(env)"
   ]
  },
  {
   "cell_type": "code",
   "execution_count": 7,
   "id": "14545ac1",
   "metadata": {},
   "outputs": [
    {
     "name": "stdout",
     "output_type": "stream",
     "text": [
      "_ _ _ _ _ \n",
      "\n",
      "_ _ _ _ _ \n",
      "\n",
      "_ _ A _ _ \n",
      "\n",
      "_ _ _ _ _ \n",
      "\n",
      "_ _ _ _ _ \n",
      "\n"
     ]
    }
   ],
   "source": [
    "env.show()"
   ]
  },
  {
   "cell_type": "code",
   "execution_count": 8,
   "id": "25490992",
   "metadata": {},
   "outputs": [
    {
     "data": {
      "text/plain": [
       "['U', 'D', 'L', 'R']"
      ]
     },
     "execution_count": 8,
     "metadata": {},
     "output_type": "execute_result"
    }
   ],
   "source": [
    "env.actions"
   ]
  },
  {
   "cell_type": "code",
   "execution_count": 19,
   "id": "df3b81a0",
   "metadata": {},
   "outputs": [
    {
     "data": {
      "text/plain": [
       "-1"
      ]
     },
     "execution_count": 19,
     "metadata": {},
     "output_type": "execute_result"
    }
   ],
   "source": [
    "env.move('L')"
   ]
  },
  {
   "cell_type": "code",
   "execution_count": 20,
   "id": "f704bdf1",
   "metadata": {},
   "outputs": [
    {
     "name": "stdout",
     "output_type": "stream",
     "text": [
      "_ _ _ _ _ \n",
      "\n",
      "_ _ _ _ _ \n",
      "\n",
      "_ _ _ _ _ \n",
      "\n",
      "_ _ _ _ _ \n",
      "\n",
      "A _ _ _ _ \n",
      "\n"
     ]
    }
   ],
   "source": [
    "env.show()"
   ]
  },
  {
   "cell_type": "code",
   "execution_count": 32,
   "id": "35168cc1",
   "metadata": {},
   "outputs": [],
   "source": [
    "policy = [[{action: 1/4 for action in env.actions} for _ in range(env.board_size)] for _ in range(env.board_size)]"
   ]
  },
  {
   "cell_type": "code",
   "execution_count": 34,
   "id": "2fe63c00",
   "metadata": {},
   "outputs": [
    {
     "data": {
      "text/plain": [
       "array([[0., 0., 0., 0., 0.],\n",
       "       [0., 0., 0., 0., 0.],\n",
       "       [0., 0., 0., 0., 0.],\n",
       "       [0., 0., 0., 0., 0.],\n",
       "       [0., 0., 0., 0., 0.]])"
      ]
     },
     "execution_count": 34,
     "metadata": {},
     "output_type": "execute_result"
    }
   ],
   "source": [
    "values = np.zeros((env.board_size, env.board_size))\n",
    "values"
   ]
  },
  {
   "cell_type": "code",
   "execution_count": 55,
   "id": "4734ee08",
   "metadata": {},
   "outputs": [
    {
     "data": {
      "text/plain": [
       "array([[ 3.32950088,  8.81232386,  4.44174139,  5.33239658,  1.49339085],\n",
       "       [ 1.53892828,  3.00916308,  2.26201892,  1.91483565,  0.55011646],\n",
       "       [ 0.06767379,  0.75382695,  0.68710607,  0.36862986, -0.39461048],\n",
       "       [-0.95469859, -0.41624036, -0.33705503, -0.56804394, -1.16679105],\n",
       "       [-1.8360794 , -1.32347617, -1.20689835, -1.40079456, -1.95294622]])"
      ]
     },
     "execution_count": 55,
     "metadata": {},
     "output_type": "execute_result"
    }
   ],
   "source": [
    "discount_factor = .9\n",
    "values = update_values(env, discount_factor, values, policy)\n",
    "values"
   ]
  },
  {
   "cell_type": "code",
   "execution_count": null,
   "id": "1ae7cf39",
   "metadata": {},
   "outputs": [],
   "source": []
  },
  {
   "cell_type": "code",
   "execution_count": null,
   "id": "2ec85274",
   "metadata": {},
   "outputs": [],
   "source": []
  }
 ],
 "metadata": {
  "kernelspec": {
   "display_name": "Python 3",
   "language": "python",
   "name": "python3"
  },
  "language_info": {
   "codemirror_mode": {
    "name": "ipython",
    "version": 3
   },
   "file_extension": ".py",
   "mimetype": "text/x-python",
   "name": "python",
   "nbconvert_exporter": "python",
   "pygments_lexer": "ipython3",
   "version": "3.9.5"
  }
 },
 "nbformat": 4,
 "nbformat_minor": 5
}
