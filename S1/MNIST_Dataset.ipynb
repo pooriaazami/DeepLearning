{
  "nbformat": 4,
  "nbformat_minor": 0,
  "metadata": {
    "colab": {
      "provenance": []
    },
    "kernelspec": {
      "name": "python3",
      "display_name": "Python 3"
    },
    "language_info": {
      "name": "python"
    }
  },
  "cells": [
    {
      "cell_type": "code",
      "execution_count": 1,
      "metadata": {
        "id": "MkHBbwNkpZCk"
      },
      "outputs": [],
      "source": [
        "import tensorflow as tf\n",
        "import tensorflow.keras as keras\n",
        "import tensorflow.keras.layers as layers\n",
        "\n",
        "import numpy as np\n",
        "import matplotlib.pyplot as plt"
      ]
    },
    {
      "cell_type": "code",
      "source": [
        "# (training_inputs, training_labels), (validation_inputs, validation_labels) = keras.datasets.fashion_mnist.load_data()\n",
        "(training_inputs, training_labels), (validation_inputs, validation_labels) = keras.datasets.mnist.load_data()"
      ],
      "metadata": {
        "id": "Ln-o6SM1pndg"
      },
      "execution_count": 45,
      "outputs": []
    },
    {
      "cell_type": "code",
      "source": [
        "training_inputs = training_inputs / 255.\n",
        "validation_inputs = validation_inputs / 255."
      ],
      "metadata": {
        "id": "0eDxC72eu5Bu"
      },
      "execution_count": 47,
      "outputs": []
    },
    {
      "cell_type": "code",
      "source": [
        "plt.imshow(training_inputs[0], cmap='gray')\n",
        "plt.show()"
      ],
      "metadata": {
        "colab": {
          "base_uri": "https://localhost:8080/",
          "height": 265
        },
        "id": "HbsJkLJ9p8Lw",
        "outputId": "61139703-1a66-487b-be5f-0dc5b4caf84e"
      },
      "execution_count": 48,
      "outputs": [
        {
          "output_type": "display_data",
          "data": {
            "text/plain": [
              "<Figure size 432x288 with 1 Axes>"
            ],
            "image/png": "[encoded data removed]"
          },
          "metadata": {
            "needs_background": "light"
          }
        }
      ]
    },
    {
      "cell_type": "code",
      "source": [
        "training_inputs.shape"
      ],
      "metadata": {
        "colab": {
          "base_uri": "https://localhost:8080/"
        },
        "id": "4_nD-Q2qp_6l",
        "outputId": "698a79fa-bb10-4197-fdc7-a65c8e71b6b6"
      },
      "execution_count": 49,
      "outputs": [
        {
          "output_type": "execute_result",
          "data": {
            "text/plain": [
              "(60000, 28, 28)"
            ]
          },
          "metadata": {},
          "execution_count": 49
        }
      ]
    },
    {
      "cell_type": "code",
      "source": [
        "validation_inputs.shape"
      ],
      "metadata": {
        "colab": {
          "base_uri": "https://localhost:8080/"
        },
        "id": "pce-4kctqIXy",
        "outputId": "a71253aa-2216-4687-bd65-e502afb2221f"
      },
      "execution_count": 50,
      "outputs": [
        {
          "output_type": "execute_result",
          "data": {
            "text/plain": [
              "(10000, 28, 28)"
            ]
          },
          "metadata": {},
          "execution_count": 50
        }
      ]
    },
    {
      "cell_type": "code",
      "source": [
        "model = keras.Sequential([\n",
        "    layers.Flatten(),\n",
        "    layers.Dense(256, activation='relu'),\n",
        "    layers.Dense(256, activation='relu'),\n",
        "    layers.Dense(10, activation='softmax'),\n",
        "])"
      ],
      "metadata": {
        "id": "ouNY7KbiqKbW"
      },
      "execution_count": 51,
      "outputs": []
    },
    {
      "cell_type": "code",
      "source": [
        "model.compile(loss='sparse_categorical_crossentropy', optimizer='adam', metrics=['accuracy'])"
      ],
      "metadata": {
        "id": "kIR9_T7Qqndq"
      },
      "execution_count": 52,
      "outputs": []
    },
    {
      "cell_type": "code",
      "source": [
        "history = model.fit(training_inputs, training_labels,\n",
        "          validation_data=(validation_inputs, validation_labels),\n",
        "          epochs=10,\n",
        "          batch_size=256)"
      ],
      "metadata": {
        "colab": {
          "base_uri": "https://localhost:8080/"
        },
        "id": "O69I1qA4quWY",
        "outputId": "088cf87e-f8b3-4180-9768-c11037137fd6"
      },
      "execution_count": 53,
      "outputs": [
        {
          "output_type": "stream",
          "name": "stdout",
          "text": [
            "Epoch 1/10\n",
            "235/235 [==============================] - 4s 15ms/step - loss: 0.5397 - accuracy: 0.8117 - val_loss: 0.4594 - val_accuracy: 0.8348\n",
            "Epoch 2/10\n",
            "235/235 [==============================] - 4s 18ms/step - loss: 0.3787 - accuracy: 0.8638 - val_loss: 0.4176 - val_accuracy: 0.8510\n",
            "Epoch 3/10\n",
            "235/235 [==============================] - 3s 14ms/step - loss: 0.3387 - accuracy: 0.8788 - val_loss: 0.3643 - val_accuracy: 0.8687\n",
            "Epoch 4/10\n",
            "235/235 [==============================] - 3s 14ms/step - loss: 0.3056 - accuracy: 0.8885 - val_loss: 0.3685 - val_accuracy: 0.8697\n",
            "Epoch 5/10\n",
            "235/235 [==============================] - 3s 14ms/step - loss: 0.2906 - accuracy: 0.8938 - val_loss: 0.3466 - val_accuracy: 0.8754\n",
            "Epoch 6/10\n",
            "235/235 [==============================] - 4s 18ms/step - loss: 0.2741 - accuracy: 0.8988 - val_loss: 0.3413 - val_accuracy: 0.8781\n",
            "Epoch 7/10\n",
            "235/235 [==============================] - 3s 14ms/step - loss: 0.2600 - accuracy: 0.9037 - val_loss: 0.3379 - val_accuracy: 0.8789\n",
            "Epoch 8/10\n",
            "235/235 [==============================] - 3s 13ms/step - loss: 0.2500 - accuracy: 0.9062 - val_loss: 0.3472 - val_accuracy: 0.8802\n",
            "Epoch 9/10\n",
            "235/235 [==============================] - 3s 14ms/step - loss: 0.2377 - accuracy: 0.9116 - val_loss: 0.3364 - val_accuracy: 0.8794\n",
            "Epoch 10/10\n",
            "235/235 [==============================] - 4s 17ms/step - loss: 0.2316 - accuracy: 0.9136 - val_loss: 0.3345 - val_accuracy: 0.8803\n"
          ]
        }
      ]
    },
    {
      "cell_type": "code",
      "source": [
        "input_data = validation_inputs[0]\n",
        "\n",
        "# plt.imshow(input_data, cmap='gray')\n",
        "model.predict(np.array([input_data]))"
      ],
      "metadata": {
        "colab": {
          "base_uri": "https://localhost:8080/"
        },
        "id": "Y5W4pMh8q9JF",
        "outputId": "f01dab59-1856-48db-8ce4-0ebb097d201b"
      },
      "execution_count": 37,
      "outputs": [
        {
          "output_type": "stream",
          "name": "stdout",
          "text": [
            "1/1 [==============================] - 0s 89ms/step\n"
          ]
        },
        {
          "output_type": "execute_result",
          "data": {
            "text/plain": [
              "array([[3.4655600e-18, 7.0186126e-20, 8.3976142e-13, 2.0982928e-13,\n",
              "        7.4470422e-17, 3.8572853e-08, 9.0291148e-19, 1.3550016e-05,\n",
              "        1.3069070e-16, 9.9998641e-01]], dtype=float32)"
            ]
          },
          "metadata": {},
          "execution_count": 37
        }
      ]
    },
    {
      "cell_type": "code",
      "source": [
        "plt.plot(history.history['loss'], color='blue', label='loss')\n",
        "plt.plot(history.history['val_loss'], color='red', label='val_loss')\n",
        "plt.legend()\n",
        "plt.show()"
      ],
      "metadata": {
        "colab": {
          "base_uri": "https://localhost:8080/",
          "height": 265
        },
        "id": "ioCxYhF0rVUQ",
        "outputId": "19652f64-5e0b-4d66-db42-cad5c4be9f9b"
      },
      "execution_count": 38,
      "outputs": [
        {
          "output_type": "display_data",
          "data": {
            "text/plain": [
              "<Figure size 432x288 with 1 Axes>"
            ],
            "image/png": "[encoded data removed]"
          },
          "metadata": {
            "needs_background": "light"
          }
        }
      ]
    },
    {
      "cell_type": "code",
      "source": [
        "plt.plot(history.history['accuracy'], color='blue', label='loss')\n",
        "plt.plot(history.history['val_accuracy'], color='red', label='val_loss')\n",
        "plt.legend()\n",
        "plt.show()"
      ],
      "metadata": {
        "colab": {
          "base_uri": "https://localhost:8080/",
          "height": 268
        },
        "id": "dViA-JrysQsM",
        "outputId": "0fd414a1-2e82-4c4c-db34-fee1258ef6f3"
      },
      "execution_count": 39,
      "outputs": [
        {
          "output_type": "display_data",
          "data": {
            "text/plain": [
              "<Figure size 432x288 with 1 Axes>"
            ],
            "image/png": "[encoded data removed]"
          },
          "metadata": {
            "needs_background": "light"
          }
        }
      ]
    },
    {
      "cell_type": "code",
      "source": [],
      "metadata": {
        "id": "mS8mXn3CsTdX"
      },
      "execution_count": 39,
      "outputs": []
    }
  ]
}