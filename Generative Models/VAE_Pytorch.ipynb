{
  "nbformat": 4,
  "nbformat_minor": 0,
  "metadata": {
    "colab": {
      "provenance": []
    },
    "kernelspec": {
      "name": "python3",
      "display_name": "Python 3"
    },
    "language_info": {
      "name": "python"
    },
    "accelerator": "GPU"
  },
  "cells": [
    {
      "cell_type": "code",
      "execution_count": null,
      "metadata": {
        "id": "Mh_r9gkV9Rx5"
      },
      "outputs": [],
      "source": [
        "import torch\n",
        "import torch.optim as optim\n",
        "\n",
        "import torch.nn as nn\n",
        "import torch.nn.functional as F\n",
        "\n",
        "import torchvision\n",
        "import torchvision.transforms as transforms\n",
        "\n",
        "import numpy as np\n",
        "import matplotlib.pyplot as plt\n",
        "from tqdm.notebook import tqdm"
      ]
    },
    {
      "cell_type": "code",
      "source": [
        "device = 'cuda' if torch.cuda.is_available() else 'cpu'\n",
        "device"
      ],
      "metadata": {
        "colab": {
          "base_uri": "https://localhost:8080/",
          "height": 35
        },
        "id": "b_P0kuj29wSw",
        "outputId": "9cf96abd-5fb0-45d1-b728-58a3bb751fba"
      },
      "execution_count": null,
      "outputs": [
        {
          "output_type": "execute_result",
          "data": {
            "text/plain": [
              "'cuda'"
            ],
            "application/vnd.google.colaboratory.intrinsic+json": {
              "type": "string"
            }
          },
          "metadata": {},
          "execution_count": 2
        }
      ]
    },
    {
      "cell_type": "code",
      "source": [
        "transform = transforms.Compose([\n",
        "    transforms.ToTensor(),\n",
        "])\n",
        "\n",
        "batch_size = 256\n",
        "\n",
        "trainset = torchvision.datasets.CIFAR10(root='./data',\n",
        "                                        train=True, \n",
        "                                        download=True,\n",
        "                                        transform=transform)\n",
        "trainloader = torch.utils.data.DataLoader(\n",
        "                                          trainset,\n",
        "                                          batch_size=batch_size,\n",
        "                                          shuffle=True,\n",
        "                                          num_workers=2\n",
        ")"
      ],
      "metadata": {
        "colab": {
          "base_uri": "https://localhost:8080/"
        },
        "id": "px7onumJ914X",
        "outputId": "4bfb6315-9a03-4e06-920f-e97d276b3ad2"
      },
      "execution_count": null,
      "outputs": [
        {
          "output_type": "stream",
          "name": "stdout",
          "text": [
            "Files already downloaded and verified\n"
          ]
        }
      ]
    },
    {
      "cell_type": "code",
      "source": [
        "def imshow(img):\n",
        "  # img = img / 2 + 0.5\n",
        "  npimg = img.numpy()\n",
        "  plt.imshow(np.transpose(npimg, (1, 2, 0)))\n",
        "  plt.show()"
      ],
      "metadata": {
        "id": "juXEVNcB96d-"
      },
      "execution_count": null,
      "outputs": []
    },
    {
      "cell_type": "code",
      "source": [
        "class Encoder(nn.Module):\n",
        "  def __init__(self, hidden_dim, latent_dim):\n",
        "    super(Encoder, self).__init__()\n",
        "\n",
        "    self.conv1 = nn.Conv2d(3, 16, 5, padding=(2, 2))\n",
        "    self.conv2 = nn.Conv2d(16, 32, 5, padding=(2, 2))\n",
        "    self.conv3 = nn.Conv2d(32, 64, 5, padding=(2, 2))\n",
        "\n",
        "    self.fc1 = nn.Linear(64 * 4 * 4, hidden_dim)\n",
        "    self.fc2 = nn.Linear(hidden_dim, hidden_dim)\n",
        "\n",
        "    self.mean = nn.Linear(hidden_dim, latent_dim)\n",
        "    self.var = nn.Linear(hidden_dim, latent_dim)\n",
        "\n",
        "    self.pool = nn.MaxPool2d(2, 2)\n",
        "    self.leaky_relu = nn.LeakyReLU(0.2)\n",
        "\n",
        "  def forward(self, x):\n",
        "    x = self.pool(self.leaky_relu(self.conv1(x)))\n",
        "    x = self.pool(self.leaky_relu(self.conv2(x)))\n",
        "    x = self.pool(self.leaky_relu(self.conv3(x)))\n",
        "\n",
        "    x = torch.flatten(x, 1)\n",
        "    x = self.leaky_relu(self.fc1(x))\n",
        "    x = self.leaky_relu(self.fc2(x))\n",
        "\n",
        "    mean = self.mean(x)\n",
        "    var = self.var(x)\n",
        "\n",
        "    return mean, var"
      ],
      "metadata": {
        "id": "zY6cIUmA9_p1"
      },
      "execution_count": null,
      "outputs": []
    },
    {
      "cell_type": "code",
      "source": [
        "class Decoder(nn.Module):\n",
        "  def __init__(self, hidden_dim, latent_dim):\n",
        "    super(Decoder, self).__init__()\n",
        "    \n",
        "    self.fc1 = nn.Linear(latent_dim, hidden_dim)\n",
        "    self.fc2 = nn.Linear(hidden_dim, 64 * 4 * 4)\n",
        "\n",
        "    self.convt1 = nn.ConvTranspose2d(64, 32, 5, padding=(2, 2))\n",
        "    self.convt2 = nn.ConvTranspose2d(32, 16, 5, padding=(2, 2))\n",
        "    self.convt3 = nn.ConvTranspose2d(16, 3, 5, padding=(2, 2))\n",
        "\n",
        "    self.upsample = nn.Upsample(scale_factor=2, mode='nearest')\n",
        "    self.leaky_relu = nn.LeakyReLU(0.2)\n",
        "\n",
        "  def forward(self, x):\n",
        "    x = self.leaky_relu(self.fc1(x))\n",
        "    x = self.leaky_relu(self.fc2(x))\n",
        "\n",
        "    x = torch.reshape(x, (-1, 64, 4, 4))\n",
        "\n",
        "    x = self.upsample(self.leaky_relu(self.convt1(x)))\n",
        "    x = self.upsample(self.leaky_relu(self.convt2(x)))\n",
        "    x = self.upsample(self.leaky_relu(self.convt3(x)))\n",
        "    x = torch.sigmoid(x)\n",
        "\n",
        "    return x"
      ],
      "metadata": {
        "id": "FompzATS--wh"
      },
      "execution_count": null,
      "outputs": []
    },
    {
      "cell_type": "code",
      "source": [
        "class VAE(nn.Module):\n",
        "  def __init__(self, encoder, decoder):\n",
        "        super(VAE, self).__init__()\n",
        "        self.encoder = encoder\n",
        "        self.decoder = decoder\n",
        "        \n",
        "  def reparameterization(self, mean, var):\n",
        "      epsilon = torch.randn_like(var).to(device)    \n",
        "      z = mean + var * epsilon                         \n",
        "      return z\n",
        "                \n",
        "  def forward(self, x):\n",
        "      mean, log_var = self.encoder(x)\n",
        "      z = self.reparameterization(mean, torch.exp(0.5 * log_var)) \n",
        "      x_hat = self.decoder(z)\n",
        "      \n",
        "      return x_hat, mean, log_var"
      ],
      "metadata": {
        "id": "J6nkCDlYAEoZ"
      },
      "execution_count": null,
      "outputs": []
    },
    {
      "cell_type": "code",
      "source": [
        "latent_dim = 100\n",
        "hidden_dim = 200"
      ],
      "metadata": {
        "id": "2kek_LkNK0WW"
      },
      "execution_count": null,
      "outputs": []
    },
    {
      "cell_type": "code",
      "source": [
        "encoder = Encoder(hidden_dim, latent_dim)\n",
        "decoder = Decoder(hidden_dim, latent_dim)\n",
        "\n",
        "vae = VAE(encoder, decoder).to(device)"
      ],
      "metadata": {
        "id": "KZgpZKiOAYg5"
      },
      "execution_count": null,
      "outputs": []
    },
    {
      "cell_type": "code",
      "source": [
        "bce_loss = nn.BCELoss()\n",
        "\n",
        "def loss_function(x, x_hat, mean, log_var):\n",
        "  reproduction_loss = nn.functional.binary_cross_entropy(x_hat, x, reduction='sum')\n",
        "  KLD = -0.5 * torch.sum(1 + log_var - mean.pow(2) - log_var.exp())\n",
        "  # print(reproduction_loss.item(), KLD.item())\n",
        "  return reproduction_loss + KLD\n",
        "\n",
        "optimizer = optim.Adam(vae.parameters(), lr=1e-3)"
      ],
      "metadata": {
        "id": "yDbGKCicApdi"
      },
      "execution_count": null,
      "outputs": []
    },
    {
      "cell_type": "code",
      "source": [
        "epochs = 500\n",
        "\n",
        "for epoch in range(1, epochs + 1):\n",
        "  total_loss = 0.0\n",
        "\n",
        "  for batch, data in enumerate(trainloader):\n",
        "    images, _ = data\n",
        "    images = images.to(device)\n",
        "\n",
        "    optimizer.zero_grad()\n",
        "    x_hat, mean, log_var = vae(images)\n",
        "    loss = loss_function(images, x_hat, mean, log_var)\n",
        "    loss.backward()\n",
        "    optimizer.step()\n",
        "\n",
        "    total_loss += loss.item()\n",
        "\n",
        "  print(f'[{epoch}/{epochs}] loss: {total_loss}')"
      ],
      "metadata": {
        "colab": {
          "base_uri": "https://localhost:8080/"
        },
        "id": "h4IylmRvIATm",
        "outputId": "536aa2b0-3b13-4f66-8390-05199d4f7fa0"
      },
      "execution_count": null,
      "outputs": [
        {
          "output_type": "stream",
          "name": "stdout",
          "text": [
            "[1/500] loss: 101011154.9375\n",
            "[2/500] loss: 97323925.90625\n",
            "[3/500] loss: 96164374.8125\n",
            "[4/500] loss: 95456515.390625\n",
            "[5/500] loss: 94483462.203125\n",
            "[6/500] loss: 94148792.640625\n",
            "[7/500] loss: 93899596.875\n",
            "[8/500] loss: 93689260.890625\n",
            "[9/500] loss: 93564705.125\n",
            "[10/500] loss: 93490052.140625\n",
            "[11/500] loss: 93407650.71875\n",
            "[12/500] loss: 93216496.859375\n"
          ]
        }
      ]
    },
    {
      "cell_type": "code",
      "source": [
        "with torch.no_grad():\n",
        "    noise = torch.randn(8, latent_dim).to(device)\n",
        "    generated_images = decoder(noise).cpu()"
      ],
      "metadata": {
        "id": "JRXgWmv0I5GH"
      },
      "execution_count": null,
      "outputs": []
    },
    {
      "cell_type": "code",
      "source": [
        "imshow(torchvision.utils.make_grid(generated_images))"
      ],
      "metadata": {
        "id": "eFst5knqK7e7"
      },
      "execution_count": null,
      "outputs": []
    },
    {
      "cell_type": "code",
      "source": [],
      "metadata": {
        "id": "-G3wGsNiLT3P"
      },
      "execution_count": null,
      "outputs": []
    }
  ]
}